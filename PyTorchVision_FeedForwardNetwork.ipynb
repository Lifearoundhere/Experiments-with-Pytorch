{
  "nbformat": 4,
  "nbformat_minor": 0,
  "metadata": {
    "colab": {
      "name": "PyTorchVision_FeedForwardNetwork.ipynb",
      "provenance": [],
      "include_colab_link": true
    },
    "kernelspec": {
      "name": "python3",
      "display_name": "Python 3"
    }
  },
  "cells": [
    {
      "cell_type": "markdown",
      "metadata": {
        "id": "view-in-github",
        "colab_type": "text"
      },
      "source": [
        "<a href=\"https://colab.research.google.com/github/Lifearoundhere/Experiments-with-Pytorch/blob/master/PyTorchVision_FeedForwardNetwork.ipynb\" target=\"_parent\"><img src=\"https://colab.research.google.com/assets/colab-badge.svg\" alt=\"Open In Colab\"/></a>"
      ]
    },
    {
      "cell_type": "code",
      "metadata": {
        "id": "55aKbuEE97pb",
        "colab_type": "code",
        "colab": {
          "base_uri": "https://localhost:8080/",
          "height": 221
        },
        "outputId": "88dfd01d-008b-4298-e82d-cdfd30c9bc3e"
      },
      "source": [
        "pip install torchvision matplotlib\n"
      ],
      "execution_count": 15,
      "outputs": [
        {
          "output_type": "stream",
          "text": [
            "Requirement already satisfied: torchvision in /usr/local/lib/python3.6/dist-packages (0.3.0)\n",
            "Requirement already satisfied: matplotlib in /usr/local/lib/python3.6/dist-packages (3.0.3)\n",
            "Requirement already satisfied: pillow>=4.1.1 in /usr/local/lib/python3.6/dist-packages (from torchvision) (4.3.0)\n",
            "Requirement already satisfied: six in /usr/local/lib/python3.6/dist-packages (from torchvision) (1.12.0)\n",
            "Requirement already satisfied: torch>=1.1.0 in /usr/local/lib/python3.6/dist-packages (from torchvision) (1.1.0)\n",
            "Requirement already satisfied: numpy in /usr/local/lib/python3.6/dist-packages (from torchvision) (1.16.5)\n",
            "Requirement already satisfied: cycler>=0.10 in /usr/local/lib/python3.6/dist-packages (from matplotlib) (0.10.0)\n",
            "Requirement already satisfied: kiwisolver>=1.0.1 in /usr/local/lib/python3.6/dist-packages (from matplotlib) (1.1.0)\n",
            "Requirement already satisfied: python-dateutil>=2.1 in /usr/local/lib/python3.6/dist-packages (from matplotlib) (2.5.3)\n",
            "Requirement already satisfied: pyparsing!=2.0.4,!=2.1.2,!=2.1.6,>=2.0.1 in /usr/local/lib/python3.6/dist-packages (from matplotlib) (2.4.2)\n",
            "Requirement already satisfied: olefile in /usr/local/lib/python3.6/dist-packages (from pillow>=4.1.1->torchvision) (0.46)\n",
            "Requirement already satisfied: setuptools in /usr/local/lib/python3.6/dist-packages (from kiwisolver>=1.0.1->matplotlib) (41.2.0)\n"
          ],
          "name": "stdout"
        }
      ]
    },
    {
      "cell_type": "code",
      "metadata": {
        "id": "r9a8KNEcDL7o",
        "colab_type": "code",
        "colab": {}
      },
      "source": [
        "import torch\n",
        "import torchvision\n",
        "from torchvision import transforms, datasets\n"
      ],
      "execution_count": 0,
      "outputs": []
    },
    {
      "cell_type": "markdown",
      "metadata": {
        "id": "5IQ-pTsZD37r",
        "colab_type": "text"
      },
      "source": [
        "* Using torchs inbuild data (mnist)"
      ]
    },
    {
      "cell_type": "markdown",
      "metadata": {
        "id": "JrOKjr19ajWA",
        "colab_type": "text"
      },
      "source": [
        "### Neural Network Input ####"
      ]
    },
    {
      "cell_type": "code",
      "metadata": {
        "id": "Vc50BxVBEIGV",
        "colab_type": "code",
        "colab": {
          "base_uri": "https://localhost:8080/",
          "height": 255
        },
        "outputId": "c5dba394-ae52-4301-e521-a80d6353c88c"
      },
      "source": [
        "train = datasets.MNIST(\"\", train=True, download=True,\n",
        "                      transform = transforms.Compose([transforms.ToTensor()]))\n",
        "\n",
        "test = datasets.MNIST(\"\", train=False, download=True,\n",
        "                      transform = transforms.Compose([transforms.ToTensor()]))"
      ],
      "execution_count": 8,
      "outputs": [
        {
          "output_type": "stream",
          "text": [
            "  0%|          | 0/9912422 [00:00<?, ?it/s]"
          ],
          "name": "stderr"
        },
        {
          "output_type": "stream",
          "text": [
            "Downloading http://yann.lecun.com/exdb/mnist/train-images-idx3-ubyte.gz to MNIST/raw/train-images-idx3-ubyte.gz\n"
          ],
          "name": "stdout"
        },
        {
          "output_type": "stream",
          "text": [
            "9920512it [00:00, 27829968.31it/s]                            \n"
          ],
          "name": "stderr"
        },
        {
          "output_type": "stream",
          "text": [
            "Extracting MNIST/raw/train-images-idx3-ubyte.gz\n"
          ],
          "name": "stdout"
        },
        {
          "output_type": "stream",
          "text": [
            "32768it [00:00, 441712.85it/s]\n",
            "0it [00:00, ?it/s]"
          ],
          "name": "stderr"
        },
        {
          "output_type": "stream",
          "text": [
            "Downloading http://yann.lecun.com/exdb/mnist/train-labels-idx1-ubyte.gz to MNIST/raw/train-labels-idx1-ubyte.gz\n",
            "Extracting MNIST/raw/train-labels-idx1-ubyte.gz\n",
            "Downloading http://yann.lecun.com/exdb/mnist/t10k-images-idx3-ubyte.gz to MNIST/raw/t10k-images-idx3-ubyte.gz\n"
          ],
          "name": "stdout"
        },
        {
          "output_type": "stream",
          "text": [
            "1654784it [00:00, 7191350.44it/s]                            \n",
            "8192it [00:00, 179303.44it/s]\n"
          ],
          "name": "stderr"
        },
        {
          "output_type": "stream",
          "text": [
            "Extracting MNIST/raw/t10k-images-idx3-ubyte.gz\n",
            "Downloading http://yann.lecun.com/exdb/mnist/t10k-labels-idx1-ubyte.gz to MNIST/raw/t10k-labels-idx1-ubyte.gz\n",
            "Extracting MNIST/raw/t10k-labels-idx1-ubyte.gz\n",
            "Processing...\n",
            "Done!\n"
          ],
          "name": "stdout"
        }
      ]
    },
    {
      "cell_type": "markdown",
      "metadata": {
        "id": "iEbDnQLXET_P",
        "colab_type": "text"
      },
      "source": [
        "* Test data should normally always be out of sample data"
      ]
    },
    {
      "cell_type": "code",
      "metadata": {
        "id": "cNlJDnwXFabU",
        "colab_type": "code",
        "colab": {}
      },
      "source": [
        "trainset = torch.utils.data.DataLoader(train, batch_size=10, shuffle=True)\n",
        "testset = torch.utils.data.DataLoader(test, batch_size=10, shuffle=True)"
      ],
      "execution_count": 0,
      "outputs": []
    },
    {
      "cell_type": "markdown",
      "metadata": {
        "id": "hZgcwDJSF5Ce",
        "colab_type": "text"
      },
      "source": [
        "*   batch is needed due to dataset size\n",
        "*   Go for the biggest batch size you can get away with to help with training times\n",
        "*   shuffle helps with generalisation (obfuscate overfit)\n",
        "\n",
        "\n"
      ]
    },
    {
      "cell_type": "code",
      "metadata": {
        "id": "sPm8J-g3ITDf",
        "colab_type": "code",
        "colab": {
          "base_uri": "https://localhost:8080/",
          "height": 952
        },
        "outputId": "cc968b65-cb37-43e7-ebb9-a37d38f97e66"
      },
      "source": [
        "for data in trainset:\n",
        "    print(data)\n",
        "    break"
      ],
      "execution_count": 11,
      "outputs": [
        {
          "output_type": "stream",
          "text": [
            "[tensor([[[[0., 0., 0.,  ..., 0., 0., 0.],\n",
            "          [0., 0., 0.,  ..., 0., 0., 0.],\n",
            "          [0., 0., 0.,  ..., 0., 0., 0.],\n",
            "          ...,\n",
            "          [0., 0., 0.,  ..., 0., 0., 0.],\n",
            "          [0., 0., 0.,  ..., 0., 0., 0.],\n",
            "          [0., 0., 0.,  ..., 0., 0., 0.]]],\n",
            "\n",
            "\n",
            "        [[[0., 0., 0.,  ..., 0., 0., 0.],\n",
            "          [0., 0., 0.,  ..., 0., 0., 0.],\n",
            "          [0., 0., 0.,  ..., 0., 0., 0.],\n",
            "          ...,\n",
            "          [0., 0., 0.,  ..., 0., 0., 0.],\n",
            "          [0., 0., 0.,  ..., 0., 0., 0.],\n",
            "          [0., 0., 0.,  ..., 0., 0., 0.]]],\n",
            "\n",
            "\n",
            "        [[[0., 0., 0.,  ..., 0., 0., 0.],\n",
            "          [0., 0., 0.,  ..., 0., 0., 0.],\n",
            "          [0., 0., 0.,  ..., 0., 0., 0.],\n",
            "          ...,\n",
            "          [0., 0., 0.,  ..., 0., 0., 0.],\n",
            "          [0., 0., 0.,  ..., 0., 0., 0.],\n",
            "          [0., 0., 0.,  ..., 0., 0., 0.]]],\n",
            "\n",
            "\n",
            "        ...,\n",
            "\n",
            "\n",
            "        [[[0., 0., 0.,  ..., 0., 0., 0.],\n",
            "          [0., 0., 0.,  ..., 0., 0., 0.],\n",
            "          [0., 0., 0.,  ..., 0., 0., 0.],\n",
            "          ...,\n",
            "          [0., 0., 0.,  ..., 0., 0., 0.],\n",
            "          [0., 0., 0.,  ..., 0., 0., 0.],\n",
            "          [0., 0., 0.,  ..., 0., 0., 0.]]],\n",
            "\n",
            "\n",
            "        [[[0., 0., 0.,  ..., 0., 0., 0.],\n",
            "          [0., 0., 0.,  ..., 0., 0., 0.],\n",
            "          [0., 0., 0.,  ..., 0., 0., 0.],\n",
            "          ...,\n",
            "          [0., 0., 0.,  ..., 0., 0., 0.],\n",
            "          [0., 0., 0.,  ..., 0., 0., 0.],\n",
            "          [0., 0., 0.,  ..., 0., 0., 0.]]],\n",
            "\n",
            "\n",
            "        [[[0., 0., 0.,  ..., 0., 0., 0.],\n",
            "          [0., 0., 0.,  ..., 0., 0., 0.],\n",
            "          [0., 0., 0.,  ..., 0., 0., 0.],\n",
            "          ...,\n",
            "          [0., 0., 0.,  ..., 0., 0., 0.],\n",
            "          [0., 0., 0.,  ..., 0., 0., 0.],\n",
            "          [0., 0., 0.,  ..., 0., 0., 0.]]]]), tensor([3, 5, 5, 8, 9, 3, 8, 4, 6, 0])]\n"
          ],
          "name": "stdout"
        }
      ]
    },
    {
      "cell_type": "markdown",
      "metadata": {
        "id": "pfVq-0BdIn9Y",
        "colab_type": "text"
      },
      "source": [
        "* get first sample to review tensor"
      ]
    },
    {
      "cell_type": "code",
      "metadata": {
        "id": "O1FhhjQrI8-p",
        "colab_type": "code",
        "colab": {
          "base_uri": "https://localhost:8080/",
          "height": 34
        },
        "outputId": "3e1b2ee6-2b24-4713-994f-8b8c40c02849"
      },
      "source": [
        "x, y = data[0][0], data[1][0]\n",
        "print( y)"
      ],
      "execution_count": 17,
      "outputs": [
        {
          "output_type": "stream",
          "text": [
            "tensor(3)\n"
          ],
          "name": "stdout"
        }
      ]
    },
    {
      "cell_type": "markdown",
      "metadata": {
        "id": "FjN8LNSGKKAz",
        "colab_type": "text"
      },
      "source": [
        "* x is the image tensor, y is the result tensor\n"
      ]
    },
    {
      "cell_type": "code",
      "metadata": {
        "id": "5kNluDaFKSPD",
        "colab_type": "code",
        "colab": {
          "base_uri": "https://localhost:8080/",
          "height": 286
        },
        "outputId": "de3128ba-1cb3-48fa-b588-48d0c42fd0de"
      },
      "source": [
        "import matplotlib.pyplot as plt\n",
        "print(x.shape)\n",
        "plt.imshow(x.view(28,28))\n",
        "plt.show() "
      ],
      "execution_count": 21,
      "outputs": [
        {
          "output_type": "stream",
          "text": [
            "torch.Size([1, 28, 28])\n"
          ],
          "name": "stdout"
        },
        {
          "output_type": "display_data",
          "data": {
            "image/png": "[encoded data removed]",
            "text/plain": [
              "<Figure size 432x288 with 1 Axes>"
            ]
          },
          "metadata": {
            "tags": []
          }
        }
      ]
    },
    {
      "cell_type": "markdown",
      "metadata": {
        "id": "-FSVTVGHM-I_",
        "colab_type": "text"
      },
      "source": [
        "* the Tensor delivers a three-dimensional object however and the image has only two. This need to be accounted for e.g\n",
        "```\n",
        "view(28,28)\n",
        "```\n",
        "\n"
      ]
    },
    {
      "cell_type": "markdown",
      "metadata": {
        "id": "tGzb1uulPi5c",
        "colab_type": "text"
      },
      "source": [
        "### Checking for data balence ### "
      ]
    },
    {
      "cell_type": "code",
      "metadata": {
        "id": "mMvmPWN5N_CD",
        "colab_type": "code",
        "colab": {
          "base_uri": "https://localhost:8080/",
          "height": 34
        },
        "outputId": "276e54d2-75b4-40f5-b87c-d710a3fc8ac2"
      },
      "source": [
        "total = 0\n",
        "counter_dict = {0:0,1:0,2:0,3:0,4:0,5:0,6:0,7:0,8:0,9:0,}\n",
        "\n",
        "for data in trainset:\n",
        "  xs, ys = data\n",
        "  for y in ys:\n",
        "    counter_dict[int(y)] += 1\n",
        "    total += 1\n",
        "\n",
        "print(counter_dict)"
      ],
      "execution_count": 26,
      "outputs": [
        {
          "output_type": "stream",
          "text": [
            "{0: 5923, 1: 6742, 2: 5958, 3: 6131, 4: 5842, 5: 5421, 6: 5918, 7: 6265, 8: 5851, 9: 5949}\n"
          ],
          "name": "stdout"
        }
      ]
    },
    {
      "cell_type": "code",
      "metadata": {
        "id": "8xYwAP_0PzzZ",
        "colab_type": "code",
        "colab": {
          "base_uri": "https://localhost:8080/",
          "height": 187
        },
        "outputId": "075a5946-c3a3-41d9-ed94-adfc57bf5491"
      },
      "source": [
        "for i in counter_dict:\n",
        "    print(f\"{i}: {counter_dict[i]/total*100}\")"
      ],
      "execution_count": 27,
      "outputs": [
        {
          "output_type": "stream",
          "text": [
            "0: 9.871666666666666\n",
            "1: 11.236666666666666\n",
            "2: 9.93\n",
            "3: 10.218333333333334\n",
            "4: 9.736666666666666\n",
            "5: 9.035\n",
            "6: 9.863333333333333\n",
            "7: 10.441666666666666\n",
            "8: 9.751666666666667\n",
            "9: 9.915000000000001\n"
          ],
          "name": "stdout"
        }
      ]
    },
    {
      "cell_type": "markdown",
      "metadata": {
        "id": "oN1aG9UlQbdh",
        "colab_type": "text"
      },
      "source": [
        "* The percentage distribution of the images above\n"
      ]
    },
    {
      "cell_type": "markdown",
      "metadata": {
        "id": "CMzX9Usba2FB",
        "colab_type": "text"
      },
      "source": [
        "### Creating a Neural Network\n"
      ]
    },
    {
      "cell_type": "code",
      "metadata": {
        "id": "6JygNgkfa_Bh",
        "colab_type": "code",
        "colab": {}
      },
      "source": [
        "import torch.nn as nn\n",
        "import torch.nn.functional as F"
      ],
      "execution_count": 0,
      "outputs": []
    },
    {
      "cell_type": "code",
      "metadata": {
        "id": "84YTFdAvbkuK",
        "colab_type": "code",
        "colab": {
          "base_uri": "https://localhost:8080/",
          "height": 119
        },
        "outputId": "cd6db73b-8cc5-4f24-80d5-9e575110b408"
      },
      "source": [
        "class Net(nn.Module):\n",
        "  def __init__(self):\n",
        "    super().__init__()\n",
        "    self.fc1 = nn.Linear(784, 64)\n",
        "    self.fc2 = nn.Linear(64, 64)\n",
        "    self.fc3 = nn.Linear(64, 64)\n",
        "    self.fc4 = nn.Linear(64, 10)\n",
        "\n",
        "  def forward(self, x):\n",
        "    x = F.relu(self.fc1(x))\n",
        "    x = F.relu(self.fc2(x))\n",
        "    x = F.relu(self.fc3(x))\n",
        "    x = self.fc4(x)\n",
        "\n",
        "    return F.log_softmax(x, dim = 1)\n",
        "\n",
        "\n",
        "net = Net()\n",
        "print(net)"
      ],
      "execution_count": 31,
      "outputs": [
        {
          "output_type": "stream",
          "text": [
            "Net(\n",
            "  (fc1): Linear(in_features=784, out_features=64, bias=True)\n",
            "  (fc2): Linear(in_features=64, out_features=64, bias=True)\n",
            "  (fc3): Linear(in_features=64, out_features=64, bias=True)\n",
            "  (fc4): Linear(in_features=64, out_features=10, bias=True)\n",
            ")\n"
          ],
          "name": "stdout"
        }
      ]
    },
    {
      "cell_type": "markdown",
      "metadata": {
        "id": "j54r9KLUb2DA",
        "colab_type": "text"
      },
      "source": [
        "```__init__```\n",
        "* When you initialise nn you inherit the method &  except the initialise method (```__init__```) \n",
        "* so you need to run initialise method if you need to ```super().__init__``` \n",
        "\n",
        "```fc1```\n",
        "\n",
        "* input is 784 because it the *flattened image* 28 x 28 = 784\n",
        "* output is 64 just because\n"
      ]
    },
    {
      "cell_type": "markdown",
      "metadata": {
        "id": "qLzXYvUxguB7",
        "colab_type": "text"
      },
      "source": [
        "```fc4```\n",
        "* output is 10 because our data/images is the numbers 0 - 9\n",
        "\n",
        "```forward```\n",
        "* defines how our data will feed through the network\n",
        "\n",
        "```F.relu```\n",
        "* the activation function\n",
        "* This is if the neuron is firing or not (its a sigmoid)\n",
        "\n",
        "```F.log_softmax```\n",
        "* this returns the prob distbution etc [0, 0.22, 0.88]\n",
        "* dim is dimention (its like axis's) \n",
        " "
      ]
    },
    {
      "cell_type": "code",
      "metadata": {
        "id": "5Hoe10O9kMkX",
        "colab_type": "code",
        "colab": {
          "base_uri": "https://localhost:8080/",
          "height": 51
        },
        "outputId": "e84c6a8a-7b99-4529-b9e6-b81a9fcc3740"
      },
      "source": [
        "X = torch.rand((28,28))\n",
        "X = X.view(-1, 28*28)\n",
        "output = net(X)\n",
        "print(output)\n"
      ],
      "execution_count": 32,
      "outputs": [
        {
          "output_type": "stream",
          "text": [
            "tensor([[-2.2205, -2.2528, -2.4362, -2.3762, -2.3739, -2.3416, -2.2573, -2.3585,\n",
            "         -2.1956, -2.2427]], grad_fn=<LogSoftmaxBackward>)\n"
          ],
          "name": "stdout"
        }
      ]
    },
    {
      "cell_type": "markdown",
      "metadata": {
        "id": "GH1b4DzPlR9l",
        "colab_type": "text"
      },
      "source": [
        "* Above is an example of inputting and outputting on of the nn\n",
        "* returns an array of probabilities "
      ]
    },
    {
      "cell_type": "markdown",
      "metadata": {
        "id": "GycAuK1AmcSm",
        "colab_type": "text"
      },
      "source": [
        "### Training the Neural Network\n"
      ]
    },
    {
      "cell_type": "markdown",
      "metadata": {
        "id": "54wsY72ynrQ1",
        "colab_type": "text"
      },
      "source": [
        "* need to deal with loss\n",
        "* need to do optimisations (adjust weight over time based on the learning rate used)"
      ]
    },
    {
      "cell_type": "code",
      "metadata": {
        "id": "o6LL94miocty",
        "colab_type": "code",
        "colab": {
          "base_uri": "https://localhost:8080/",
          "height": 68
        },
        "outputId": "e5f54a16-ea68-409f-9f32-edefbc4f16b2"
      },
      "source": [
        "import torch.optim as optim\n",
        "\n",
        "optimiser = optim.Adam(net.parameters(), lr=0.001)\n",
        "\n",
        "# interate through the data and do that interation multiples time\n",
        "\n",
        "EPOCHS = 3\n",
        "\n",
        "for epoch in range(EPOCHS):\n",
        "  for data in trainset:\n",
        "    # data is a batch (10) of featuresets and labels\n",
        "    x, y = data\n",
        "    net.zero_grad()\n",
        "    output = net(x.view(-1, 28*28))\n",
        "    loss = F.nll_loss(output, y)\n",
        "    loss.backward()\n",
        "    optimiser.step()\n",
        "  print(loss)\n"
      ],
      "execution_count": 33,
      "outputs": [
        {
          "output_type": "stream",
          "text": [
            "tensor(0.2791, grad_fn=<NllLossBackward>)\n",
            "tensor(0.0439, grad_fn=<NllLossBackward>)\n",
            "tensor(0.0195, grad_fn=<NllLossBackward>)\n"
          ],
          "name": "stdout"
        }
      ]
    },
    {
      "cell_type": "markdown",
      "metadata": {
        "id": "eEMER1QZo6As",
        "colab_type": "text"
      },
      "source": [
        "```net.parameters()```\n",
        "* is everything that is adjustable in the model\n",
        "\n",
        "```lr```\n",
        "* the learning rate\n",
        "* sets the steps\n",
        "* most real problems decay the learning rate\n",
        "* we dont optimise for accucacy we optimise for loss (it just happens that accycacy follows loss) \n",
        "\n",
        "```EPOCH```\n",
        "* one full pass through the data"
      ]
    },
    {
      "cell_type": "markdown",
      "metadata": {
        "id": "yBqet45_zWQS",
        "colab_type": "text"
      },
      "source": [
        "```net.zero_grad```\n",
        "* sets gradients to 0 before loss calc. You will do this likely every step.\n",
        "\n",
        "```F.nll_loss(output, y)```\n",
        "* calc and grab the loss value\n",
        "\n",
        "```loss.backward```\n",
        "* apply this loss backwards thru the network's parameters\n",
        "\n",
        "```optimizer.step()```\n",
        "* attempt to optimize weights to account for loss/gradients\n",
        "  "
      ]
    },
    {
      "cell_type": "code",
      "metadata": {
        "id": "GydKa98puMLp",
        "colab_type": "code",
        "colab": {
          "base_uri": "https://localhost:8080/",
          "height": 34
        },
        "outputId": "da6dbb2b-0119-4ba5-ec64-d0f59c4fc875"
      },
      "source": [
        "correct = 0\n",
        "total = 0\n",
        "\n",
        "with torch.no_grad():\n",
        "  for data in testset:\n",
        "    x, y = data\n",
        "    output = net(x.view(-1, 28*28))\n",
        "    for index, i in enumerate(output):\n",
        "      if torch.argmax(i) == y[index]:\n",
        "        correct += 1\n",
        "      total += 1\n",
        "\n",
        "print(\"Accuracy: \", round(correct/total, 3))"
      ],
      "execution_count": 44,
      "outputs": [
        {
          "output_type": "stream",
          "text": [
            "Accuracy:  0.967\n"
          ],
          "name": "stdout"
        }
      ]
    },
    {
      "cell_type": "markdown",
      "metadata": {
        "id": "PMfZDxEGxbIx",
        "colab_type": "text"
      },
      "source": [
        "### Test NN"
      ]
    },
    {
      "cell_type": "code",
      "metadata": {
        "id": "ClQyBTHDxgJT",
        "colab_type": "code",
        "colab": {
          "base_uri": "https://localhost:8080/",
          "height": 269
        },
        "outputId": "0bb65ed9-81b3-4039-e84f-91ca8ab27c6d"
      },
      "source": [
        "# change sample to test recogistion \n",
        "sample = 1\n",
        "plt.imshow(x[sample].view(28,28))\n",
        "plt.show()"
      ],
      "execution_count": 41,
      "outputs": [
        {
          "output_type": "display_data",
          "data": {
            "image/png": "[encoded data removed]",
            "text/plain": [
              "<Figure size 432x288 with 1 Axes>"
            ]
          },
          "metadata": {
            "tags": []
          }
        }
      ]
    },
    {
      "cell_type": "code",
      "metadata": {
        "id": "tNvq7hGyxvkz",
        "colab_type": "code",
        "colab": {
          "base_uri": "https://localhost:8080/",
          "height": 34
        },
        "outputId": "9dcd84b1-e2d3-48a3-a2a1-c3d491db5e3a"
      },
      "source": [
        "print(torch.argmax(net(x[sample].view(-1,784))[0]))"
      ],
      "execution_count": 42,
      "outputs": [
        {
          "output_type": "stream",
          "text": [
            "tensor(5)\n"
          ],
          "name": "stdout"
        }
      ]
    }
  ]
}